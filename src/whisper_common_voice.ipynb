{
 "cells": [
  {
   "cell_type": "code",
   "execution_count": 1,
   "metadata": {},
   "outputs": [],
   "source": [
    "# !pip install -U openai-whisper"
   ]
  },
  {
   "cell_type": "code",
   "execution_count": 2,
   "metadata": {},
   "outputs": [],
   "source": [
    "from tqdm import tqdm\n",
    "import re\n",
    "from evaluate import load\n",
    "from datasets import load_from_disk\n",
    "import whisper\n",
    "import torch\n",
    "import pandas as pd"
   ]
  },
  {
   "cell_type": "code",
   "execution_count": 3,
   "metadata": {},
   "outputs": [],
   "source": [
    "wer = load(\"wer\")\n",
    "cer = load(\"cer\")"
   ]
  },
  {
   "cell_type": "code",
   "execution_count": 4,
   "metadata": {},
   "outputs": [],
   "source": [
    "def normalize_text(text: str):\n",
    "    for char in [\".\", \",\", \"!\", \"?\", \"(\", \")\"]:\n",
    "        text = text.replace(char , \" \")\n",
    "    text = text.replace(\"ё\", \"е\")\n",
    "    text = re.sub(' +', ' ', text)\n",
    "    text = re.sub(r'[^\\w\\s]','', text)\n",
    "    text = text.lower().strip()\n",
    "    return text"
   ]
  },
  {
   "cell_type": "code",
   "execution_count": 5,
   "metadata": {},
   "outputs": [
    {
     "data": {
      "text/plain": [
       "''"
      ]
     },
     "execution_count": 5,
     "metadata": {},
     "output_type": "execute_result"
    }
   ],
   "source": [
    "model = whisper.load_model(\"large\")\n",
    "options = whisper.DecodingOptions(fp16=True, language=\"ru\")\n",
    "\n",
    "device = \"cuda\" if torch.cuda.is_available() else \"cpu\"\n",
    "model.to(device)\n",
    ";"
   ]
  },
  {
   "cell_type": "code",
   "execution_count": 6,
   "metadata": {},
   "outputs": [
    {
     "data": {
      "text/plain": [
       "['vad_0.4', 'vad_0.3', 'vad_orig', 'vad_0.1', 'vad_0.0', 'vad_0.5', 'vad_0.2']"
      ]
     },
     "execution_count": 6,
     "metadata": {},
     "output_type": "execute_result"
    }
   ],
   "source": [
    "import os\n",
    "basefolder = \"/home/docker_current/src/common_voice\"\n",
    "folders = os.listdir(basefolder)\n",
    "folders"
   ]
  },
  {
   "cell_type": "code",
   "execution_count": 7,
   "metadata": {},
   "outputs": [],
   "source": [
    "df = pd.DataFrame()"
   ]
  },
  {
   "cell_type": "code",
   "execution_count": 8,
   "metadata": {},
   "outputs": [
    {
     "name": "stdout",
     "output_type": "stream",
     "text": [
      "vad_0.4\n"
     ]
    },
    {
     "name": "stderr",
     "output_type": "stream",
     "text": [
      "100%|██████████| 998/998 [14:27<00:00,  1.15it/s]\n"
     ]
    },
    {
     "name": "stdout",
     "output_type": "stream",
     "text": [
      "wer = 12.610989576631065, cer = 5.564793469634557\n",
      "vad_0.3\n"
     ]
    },
    {
     "name": "stderr",
     "output_type": "stream",
     "text": [
      "100%|██████████| 998/998 [14:39<00:00,  1.13it/s]\n"
     ]
    },
    {
     "name": "stdout",
     "output_type": "stream",
     "text": [
      "wer = 12.945566851113114, cer = 5.921922829825026\n",
      "vad_orig\n"
     ]
    },
    {
     "name": "stderr",
     "output_type": "stream",
     "text": [
      "100%|██████████| 1000/1000 [14:48<00:00,  1.13it/s]\n"
     ]
    },
    {
     "name": "stdout",
     "output_type": "stream",
     "text": [
      "wer = 12.413350449293967, cer = 5.483171490525125\n",
      "vad_0.1\n"
     ]
    },
    {
     "name": "stderr",
     "output_type": "stream",
     "text": [
      "100%|██████████| 998/998 [14:32<00:00,  1.14it/s]\n"
     ]
    },
    {
     "name": "stdout",
     "output_type": "stream",
     "text": [
      "wer = 14.940162141294557, cer = 7.924870564226598\n",
      "vad_0.0\n"
     ]
    },
    {
     "name": "stderr",
     "output_type": "stream",
     "text": [
      "100%|██████████| 998/998 [14:22<00:00,  1.16it/s]\n"
     ]
    },
    {
     "name": "stdout",
     "output_type": "stream",
     "text": [
      "wer = 17.179256208982114, cer = 10.245266618797476\n",
      "vad_0.5\n"
     ]
    },
    {
     "name": "stderr",
     "output_type": "stream",
     "text": [
      "100%|██████████| 998/998 [15:47<00:00,  1.05it/s]\n"
     ]
    },
    {
     "name": "stdout",
     "output_type": "stream",
     "text": [
      "wer = 12.276412302149016, cer = 5.3682778428630815\n",
      "vad_0.2\n"
     ]
    },
    {
     "name": "stderr",
     "output_type": "stream",
     "text": [
      "100%|██████████| 998/998 [14:50<00:00,  1.12it/s]"
     ]
    },
    {
     "name": "stdout",
     "output_type": "stream",
     "text": [
      "wer = 13.75627332389654, cer = 6.692868750236197\n"
     ]
    },
    {
     "name": "stderr",
     "output_type": "stream",
     "text": [
      "\n"
     ]
    }
   ],
   "source": [
    "for folder in folders:\n",
    "    print(folder)\n",
    "    \n",
    "    common_voice = load_from_disk(os.path.join(basefolder, folder))\n",
    "\n",
    "    preds = []\n",
    "    refs = []\n",
    "\n",
    "    for i in tqdm(range(len(common_voice))):\n",
    "        wav = torch.Tensor(common_voice[i][\"audio\"][\"array\"])\n",
    "        gt = common_voice[i][\"sentence\"]\n",
    "\n",
    "        predicted_sentences = model.transcribe(wav, fp16=False, language=\"ru\")[\"text\"]\n",
    "    \n",
    "        preds.append(predicted_sentences)\n",
    "        refs.append(gt)\n",
    "            \n",
    "    preds = [normalize_text(i) for i in preds]\n",
    "    refs = [normalize_text(i) for i in refs]\n",
    "\n",
    "    wer_metric = 100 * wer.compute(predictions=preds, references=refs)\n",
    "    cer_metric = 100 * cer.compute(predictions=preds, references=refs)\n",
    "    \n",
    "    print(f\"wer = {wer_metric}, cer = {cer_metric}\")\n",
    "    \n",
    "    data = {\"reserve\" : folder.replace(\".\", \"_\"),\n",
    "            \"dataset\" : \"common_voice\",\n",
    "            \"wer\" : wer_metric,\n",
    "            \"cer\" : cer_metric}\n",
    "    \n",
    "    data = pd.DataFrame([data])\n",
    "    df = pd.concat([df, data])"
   ]
  },
  {
   "cell_type": "code",
   "execution_count": 9,
   "metadata": {},
   "outputs": [],
   "source": [
    "# preds = [normalize_text(i) for i in preds]\n",
    "# refs = [normalize_text(i) for i in refs]\n",
    "\n",
    "# wer_metric = 100 * wer.compute(predictions=preds, references=refs)\n",
    "# cer_metric = 100 * cer.compute(predictions=preds, references=refs)\n",
    "\n",
    "# print(f\"wer = {wer_metric}, cer = {cer_metric}\")"
   ]
  },
  {
   "cell_type": "code",
   "execution_count": 10,
   "metadata": {},
   "outputs": [],
   "source": [
    "df.to_csv(\"/home/docker_current/src/metrics/whisper_commonvoice.csv\", index=False)"
   ]
  }
 ],
 "metadata": {
  "kernelspec": {
   "display_name": "Python 3",
   "language": "python",
   "name": "python3"
  },
  "language_info": {
   "codemirror_mode": {
    "name": "ipython",
    "version": 3
   },
   "file_extension": ".py",
   "mimetype": "text/x-python",
   "name": "python",
   "nbconvert_exporter": "python",
   "pygments_lexer": "ipython3",
   "version": "3.10.6"
  },
  "orig_nbformat": 4,
  "vscode": {
   "interpreter": {
    "hash": "916dbcbb3f70747c44a77c7bcd40155683ae19c65e1c03b4aa3499c5328201f1"
   }
  }
 },
 "nbformat": 4,
 "nbformat_minor": 2
}
